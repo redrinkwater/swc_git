{
 "metadata": {
  "name": "",
  "signature": "sha256:2003b879ec2a6bcabbd7a3cef036f55196d7617908d08b7dda33768546c27142"
 },
 "nbformat": 3,
 "nbformat_minor": 0,
 "worksheets": [
  {
   "cells": [
    {
     "cell_type": "code",
     "collapsed": false,
     "input": [
      "import numpy as np\n"
     ],
     "language": "python",
     "metadata": {},
     "outputs": [],
     "prompt_number": 1
    },
    {
     "cell_type": "code",
     "collapsed": false,
     "input": [
      "from matlablib import pyplot as plt"
     ],
     "language": "python",
     "metadata": {},
     "outputs": [
      {
       "ename": "ImportError",
       "evalue": "No module named matlablib",
       "output_type": "pyerr",
       "traceback": [
        "\u001b[1;31m---------------------------------------------------------------------------\u001b[0m\n\u001b[1;31mImportError\u001b[0m                               Traceback (most recent call last)",
        "\u001b[1;32m<ipython-input-2-da5529bfbe3b>\u001b[0m in \u001b[0;36m<module>\u001b[1;34m()\u001b[0m\n\u001b[1;32m----> 1\u001b[1;33m \u001b[1;32mfrom\u001b[0m \u001b[0mmatlablib\u001b[0m \u001b[1;32mimport\u001b[0m \u001b[0mpyplot\u001b[0m \u001b[1;32mas\u001b[0m \u001b[0mplt\u001b[0m\u001b[1;33m\u001b[0m\u001b[0m\n\u001b[0m",
        "\u001b[1;31mImportError\u001b[0m: No module named matlablib"
       ]
      }
     ],
     "prompt_number": 2
    },
    {
     "cell_type": "code",
     "collapsed": false,
     "input": [
      "from matplotlib import pyplot as plt"
     ],
     "language": "python",
     "metadata": {},
     "outputs": []
    },
    {
     "cell_type": "code",
     "collapsed": false,
     "input": [
      "%pyplot inline"
     ],
     "language": "python",
     "metadata": {},
     "outputs": []
    },
    {
     "cell_type": "code",
     "collapsed": false,
     "input": [
      "%matplotlib inline"
     ],
     "language": "python",
     "metadata": {},
     "outputs": []
    },
    {
     "cell_type": "code",
     "collapsed": false,
     "input": [
      "np.loadtxt(\"specimendata.csv\", delimiter=',')"
     ],
     "language": "python",
     "metadata": {},
     "outputs": []
    },
    {
     "cell_type": "code",
     "collapsed": false,
     "input": [
      "!pwd\n"
     ],
     "language": "python",
     "metadata": {},
     "outputs": []
    },
    {
     "cell_type": "code",
     "collapsed": false,
     "input": [
      "!ls"
     ],
     "language": "python",
     "metadata": {},
     "outputs": []
    },
    {
     "cell_type": "code",
     "collapsed": false,
     "input": [
      "np.loadtxt(\"specimendata.csv\",',')"
     ],
     "language": "python",
     "metadata": {},
     "outputs": []
    },
    {
     "cell_type": "code",
     "collapsed": false,
     "input": [
      "np.loadtxt(\"specimendata.csv\", delimiter=',')"
     ],
     "language": "python",
     "metadata": {},
     "outputs": []
    },
    {
     "cell_type": "code",
     "collapsed": false,
     "input": [
      "np.loadtxt(\"specimendata_edit.txt\", delimiter=',')"
     ],
     "language": "python",
     "metadata": {},
     "outputs": []
    },
    {
     "cell_type": "code",
     "collapsed": false,
     "input": [
      "np.loadtxt(\"specimendata_edit.csv\", delimiter=',')"
     ],
     "language": "python",
     "metadata": {},
     "outputs": []
    },
    {
     "cell_type": "code",
     "collapsed": false,
     "input": [
      "import numpy as np\n"
     ],
     "language": "python",
     "metadata": {},
     "outputs": []
    },
    {
     "cell_type": "code",
     "collapsed": false,
     "input": [
      "np.loadtxt(\"specimendata_edit1.csv\", delimiter=',')"
     ],
     "language": "python",
     "metadata": {},
     "outputs": []
    },
    {
     "cell_type": "code",
     "collapsed": false,
     "input": [
      "data = np.loadtxt(\"specimendata_edit1.csv\", delimiter=',')"
     ],
     "language": "python",
     "metadata": {},
     "outputs": []
    },
    {
     "cell_type": "code",
     "collapsed": false,
     "input": [
      "from matplotlib import pyplot as plt\n",
      "%matplotlib inline"
     ],
     "language": "python",
     "metadata": {},
     "outputs": []
    },
    {
     "cell_type": "code",
     "collapsed": false,
     "input": [
      "plt.imshow(data)"
     ],
     "language": "python",
     "metadata": {},
     "outputs": []
    },
    {
     "cell_type": "code",
     "collapsed": false,
     "input": [
      "import numpy.random"
     ],
     "language": "python",
     "metadata": {},
     "outputs": []
    },
    {
     "cell_type": "code",
     "collapsed": false,
     "input": [
      "heatmap, xedges, yedges = np.histogram2d(data[:1],data[:,2], bins=50)\n",
      "extent = [xedges[0], xedges[-1], yedges[0], yedges[-1]]\n",
      "\n",
      "plt.clf()\n",
      "plt.imshow(heatmap, extent=extent)\n",
      "plt.show()"
     ],
     "language": "python",
     "metadata": {},
     "outputs": []
    },
    {
     "cell_type": "code",
     "collapsed": false,
     "input": [
      "print data"
     ],
     "language": "python",
     "metadata": {},
     "outputs": []
    },
    {
     "cell_type": "code",
     "collapsed": false,
     "input": [
      "plt.plot(data[:,0], data[:,1])"
     ],
     "language": "python",
     "metadata": {},
     "outputs": []
    },
    {
     "cell_type": "code",
     "collapsed": false,
     "input": [
      "subset = data[:,0]\n",
      "plt.hist(subset)"
     ],
     "language": "python",
     "metadata": {},
     "outputs": [
      {
       "ename": "NameError",
       "evalue": "name 'data' is not defined",
       "output_type": "pyerr",
       "traceback": [
        "\u001b[1;31m---------------------------------------------------------------------------\u001b[0m\n\u001b[1;31mNameError\u001b[0m                                 Traceback (most recent call last)",
        "\u001b[1;32m<ipython-input-3-bfcba3c41427>\u001b[0m in \u001b[0;36m<module>\u001b[1;34m()\u001b[0m\n\u001b[1;32m----> 1\u001b[1;33m \u001b[0msubset\u001b[0m \u001b[1;33m=\u001b[0m \u001b[0mdata\u001b[0m\u001b[1;33m[\u001b[0m\u001b[1;33m:\u001b[0m\u001b[1;33m,\u001b[0m\u001b[1;36m0\u001b[0m\u001b[1;33m]\u001b[0m\u001b[1;33m\u001b[0m\u001b[0m\n\u001b[0m\u001b[0;32m      2\u001b[0m \u001b[0mplt\u001b[0m\u001b[1;33m.\u001b[0m\u001b[0mhist\u001b[0m\u001b[1;33m(\u001b[0m\u001b[0msubset\u001b[0m\u001b[1;33m)\u001b[0m\u001b[1;33m\u001b[0m\u001b[0m\n",
        "\u001b[1;31mNameError\u001b[0m: name 'data' is not defined"
       ]
      }
     ],
     "prompt_number": 3
    },
    {
     "cell_type": "code",
     "collapsed": false,
     "input": [
      "import numpy as np\n",
      "from matplotlib import pyplot as plt\n",
      "%matplotlib inline"
     ],
     "language": "python",
     "metadata": {},
     "outputs": [],
     "prompt_number": 4
    },
    {
     "cell_type": "code",
     "collapsed": false,
     "input": [
      "data = np.loadtxt(\"specimendata_edit1.csv\", delimiter=',')"
     ],
     "language": "python",
     "metadata": {},
     "outputs": [],
     "prompt_number": 6
    },
    {
     "cell_type": "code",
     "collapsed": false,
     "input": [
      "subset = data[:,0]"
     ],
     "language": "python",
     "metadata": {},
     "outputs": [],
     "prompt_number": 7
    },
    {
     "cell_type": "code",
     "collapsed": false,
     "input": [
      "print subset"
     ],
     "language": "python",
     "metadata": {},
     "outputs": [
      {
       "output_type": "stream",
       "stream": "stdout",
       "text": [
        "[  1.   1.   1.   1.   1.   1.   1.   1.   1.   1.   1.   1.   1.   1.   1.\n",
        "   1.   1.   1.   1.   1.   1.   1.   1.   1.   1.   1.   1.   1.   1.   1.\n",
        "   1.   1.   1.   1.   1.   1.   1.   1.   1.   1.   1.   1.   1.   1.   1.\n",
        "   1.   1.   1.   1.   1.   1.   1.   1.   1.   1.   1.   1.   1.   1.   1.\n",
        "   1.   1.   1.   1.   1.   1.   1.   1.   1.   1.   1.   1.   1.   1.   1.\n",
        "   1.   1.   2.   2.   2.   2.   2.   2.   2.   2.   2.   3.   3.   3.   3.\n",
        "   4.   4.   4.   5.   5.   5.   5.   5.   5.   5.   5.   5.   5.   5.   5.\n",
        "   5.   5.   5.   5.   5.   5.   5.   5.   5.   5.   5.   5.   5.   5.   5.\n",
        "   5.   5.   5.   5.   5.   6.   6.   6.   6.   6.   6.   6.   6.   6.   6.\n",
        "   7.   7.   7.   7.   7.   7.   7.   7.   7.   7.   7.   7.   7.   7.   7.\n",
        "   7.   7.   8.   8.   8.   8.   8.   8.   8.   8.   9.   9.   9.   9.   9.\n",
        "   9.   9.   9.   9.   9.   9.   9.   9.   9.   9.   9.   9.   9.   9.   9.\n",
        "   9.   9.   9.   9.   9.   9.   9.   9.   9.   9.   9.   9.   9.   9.   9.\n",
        "   9.   9.   9.   9.   9.   9.   9.   9.   9.   9.   9.   9.   9.   9.   9.\n",
        "   9.   9.   9.   9.   9.   9.   9.   9.   9.   9.   9.   9.   9.   9.   9.\n",
        "   9.   9.   9.   9.   9.   9.   9.   9.   9.   9.   9.   9.   9.   9.   9.\n",
        "   9.   9.   9.   9.   9.   9.   9.   9.   9.   9.   9.   9.   9.   9.   9.\n",
        "   9.   9.   9.   9.   9.   9.  10.  10.  10.  10.  10.  10.  10.  10.  10.\n",
        "  10.  10.  10.  10.  10.  10.  10.  10.  11.  11.  11.  11.  11.  11.  11.\n",
        "  11.  11.  11.  11.  11.  11.  11.  11.  11.  11.  11.  11.  11.  11.  11.\n",
        "  11.  11.  11.  11.  11.  11.  11.  11.  11.  11.  11.  12.  12.  12.  12.\n",
        "  12.  12.  12.  12.  12.  12.  12.  12.  12.  12.  12.  12.  12.  12.  12.\n",
        "  13.  14.  14.  14.  14.  14.  14.  14.  14.  14.  14.  15.  15.  15.  15.\n",
        "  15.  15.  15.  15.  16.  16.  16.  16.  17.  17.  17.  17.  17.  17.  17.\n",
        "  17.  17.  17.  17.  17.  17.  17.  17.  17.  17.  17.  17.  17.  17.  17.\n",
        "  17.  17.  17.  17.  17.  18.  18.  18.  18.  18.  18.  18.  18.  18.  18.\n",
        "  18.  18.  18.  18.  18.  18.  18.  18.  18.  18.  18.  18.  18.  18.  18.\n",
        "  18.  18.  19.  19.  19.  19.  19.  19.  19.  19.  19.  19.  19.  19.  19.\n",
        "  19.  19.  19.  19.  19.  19.  19.  19.  19.  20.  21.  21.  21.  21.  21.\n",
        "  21.  21.  21.  22.  23.  23.  24.  25.  25.  25.  25.  26.  26.  26.  26.\n",
        "  26.  26.  26.  26.  26.  26.  26.  26.  26.  26.  26.  26.  26.  26.  26.\n",
        "  26.  26.  26.  26.  26.  26.  26.  26.  26.  26.  26.  26.  26.  26.  26.\n",
        "  27.  27.  27.  27.  28.  28.  28.  28.  28.  28.  28.  29.  29.  29.  29.\n",
        "  29.  29.  29.  29.  29.  29.  29.  30.  30.  31.  31.  31.  31.  31.  31.\n",
        "  31.  31.  31.  32.  32.  32.  32.  32.  32.  32.  32.  32.  32.  32.  32.\n",
        "  32.  32.  32.  32.  32.  32.  32.  32.  32.  32.  32.  32.  32.  32.  32.]\n"
       ]
      }
     ],
     "prompt_number": 8
    },
    {
     "cell_type": "code",
     "collapsed": false,
     "input": [
      "plt.hist(subset, bins=32)"
     ],
     "language": "python",
     "metadata": {},
     "outputs": [
      {
       "metadata": {},
       "output_type": "pyout",
       "prompt_number": 10,
       "text": [
        "(array([  77.,    9.,    4.,    3.,   32.,   10.,   17.,    8.,  101.,\n",
        "          17.,   33.,   19.,    1.,   10.,    8.,    4.,   27.,   27.,\n",
        "          22.,    1.,    8.,    1.,    2.,    1.,    4.,   34.,    4.,\n",
        "           7.,   11.,    2.,    9.,   27.]),\n",
        " array([  1.     ,   1.96875,   2.9375 ,   3.90625,   4.875  ,   5.84375,\n",
        "          6.8125 ,   7.78125,   8.75   ,   9.71875,  10.6875 ,  11.65625,\n",
        "         12.625  ,  13.59375,  14.5625 ,  15.53125,  16.5    ,  17.46875,\n",
        "         18.4375 ,  19.40625,  20.375  ,  21.34375,  22.3125 ,  23.28125,\n",
        "         24.25   ,  25.21875,  26.1875 ,  27.15625,  28.125  ,  29.09375,\n",
        "         30.0625 ,  31.03125,  32.     ]),\n",
        " <a list of 32 Patch objects>)"
       ]
      },
      {
       "metadata": {},
       "output_type": "display_data",
       "png": "[encoded data removed]",
       "text": [
        "<matplotlib.figure.Figure at 0x404e830>"
       ]
      }
     ],
     "prompt_number": 10
    },
    {
     "cell_type": "code",
     "collapsed": false,
     "input": [],
     "language": "python",
     "metadata": {},
     "outputs": []
    }
   ],
   "metadata": {}
  }
 ]
}