{
 "metadata": {
  "name": "",
  "signature": "sha256:f35fbc2d10b792fd64a2d5e388e2c9758a6485a5bf5b2ce6a2d1ccfcdc1a0cd7"
 },
 "nbformat": 3,
 "nbformat_minor": 0,
 "worksheets": [
  {
   "cells": [
    {
     "cell_type": "code",
     "collapsed": false,
     "input": [
      "def fahr_to_kelvin(temp): #def starts function, followed by name,(arg/variable) and then : shows that you have closed the function\n",
      "    return((temp - 32) * (5/9)) + 273.15"
     ],
     "language": "python",
     "metadata": {},
     "outputs": [],
     "prompt_number": 1
    },
    {
     "cell_type": "code",
     "collapsed": false,
     "input": [
      "print fahr_to_kelvin(23)"
     ],
     "language": "python",
     "metadata": {},
     "outputs": [
      {
       "output_type": "stream",
       "stream": "stdout",
       "text": [
        "273.15\n"
       ]
      }
     ],
     "prompt_number": 2
    },
    {
     "cell_type": "code",
     "collapsed": false,
     "input": [
      "#code is incorrect needs to be de-bugged to find the error\n",
      "#start with the smallest testable bit:\n",
      "print 50-32"
     ],
     "language": "python",
     "metadata": {},
     "outputs": [
      {
       "output_type": "stream",
       "stream": "stdout",
       "text": [
        "18\n"
       ]
      }
     ],
     "prompt_number": 3
    },
    {
     "cell_type": "code",
     "collapsed": false,
     "input": [
      "#next next step add the next smallest testable part:\n",
      "\n",
      "print (50-32)*(5/9)\n"
     ],
     "language": "python",
     "metadata": {},
     "outputs": [
      {
       "output_type": "stream",
       "stream": "stdout",
       "text": [
        "0\n"
       ]
      }
     ],
     "prompt_number": 4
    },
    {
     "cell_type": "code",
     "collapsed": false,
     "input": [
      "#result is 0. This tells us that *(5/9) is the problem\n",
      "\n",
      "print 5/9\n",
      "\n",
      "#programme is treating this as an integer (a whole number) anything after . is rounded up e.g. 0.555 is rounded to 0"
     ],
     "language": "python",
     "metadata": {},
     "outputs": [
      {
       "output_type": "stream",
       "stream": "stdout",
       "text": [
        "0\n"
       ]
      }
     ],
     "prompt_number": 5
    },
    {
     "cell_type": "code",
     "collapsed": false,
     "input": [
      "5.0/9.0\n",
      "\n",
      "#by adding .0 after the number tells Python that it is a floating point value so it will then show values after the decimal point"
     ],
     "language": "python",
     "metadata": {},
     "outputs": [
      {
       "metadata": {},
       "output_type": "pyout",
       "prompt_number": 6,
       "text": [
        "0.5555555555555556"
       ]
      }
     ],
     "prompt_number": 6
    },
    {
     "cell_type": "code",
     "collapsed": false,
     "input": [
      "#can also do this by:  float(5)/9\n",
      "print float(5)/9"
     ],
     "language": "python",
     "metadata": {},
     "outputs": [
      {
       "output_type": "stream",
       "stream": "stdout",
       "text": [
        "0.555555555556\n"
       ]
      }
     ],
     "prompt_number": 7
    },
    {
     "cell_type": "code",
     "collapsed": false,
     "input": [
      "def fahr_to_kelvin(temp): #def starts function, followed by name,(arg/variable) and then : shows that you have closed the function\n",
      "    return((temp - 32) * (5.0/9.0)) + 273.15"
     ],
     "language": "python",
     "metadata": {},
     "outputs": [],
     "prompt_number": 8
    },
    {
     "cell_type": "code",
     "collapsed": false,
     "input": [
      "print fahr_to_kelvin(212)"
     ],
     "language": "python",
     "metadata": {},
     "outputs": [
      {
       "output_type": "stream",
       "stream": "stdout",
       "text": [
        "373.15\n"
       ]
      }
     ],
     "prompt_number": 9
    },
    {
     "cell_type": "code",
     "collapsed": false,
     "input": [
      "def kelvin_to_celsius(temp):\n",
      "    return temp - 273.15"
     ],
     "language": "python",
     "metadata": {},
     "outputs": [],
     "prompt_number": 10
    },
    {
     "cell_type": "code",
     "collapsed": false,
     "input": [
      "kelvin_to_celsius(100)"
     ],
     "language": "python",
     "metadata": {},
     "outputs": [
      {
       "metadata": {},
       "output_type": "pyout",
       "prompt_number": 11,
       "text": [
        "-173.14999999999998"
       ]
      }
     ],
     "prompt_number": 11
    },
    {
     "cell_type": "code",
     "collapsed": false,
     "input": [
      "print \"273.15K in celsius is\", kelvin_to_celsius(273.15)"
     ],
     "language": "python",
     "metadata": {},
     "outputs": [
      {
       "output_type": "stream",
       "stream": "stdout",
       "text": [
        "273.15K in celsius is 0.0\n"
       ]
      }
     ],
     "prompt_number": 12
    },
    {
     "cell_type": "code",
     "collapsed": false,
     "input": [
      "# create a function that takes a value in Fahrenheit and returns a value in Celsius\n",
      "\n",
      "def fahr_to_celsius(temp):\n",
      "    temp_kelvin = fahr_to_kelvin(temp) #creates variable which holds the value from fahr_to_kelvin function\n",
      "    temp_celcius = kelvin_to_celsius(temp_kelvin) #creates variable which takes output from above and inserts it into \n",
      "                                                  #function to go from kelvin to celsius\n",
      "    return temp_celsius"
     ],
     "language": "python",
     "metadata": {},
     "outputs": [],
     "prompt_number": 13
    },
    {
     "cell_type": "code",
     "collapsed": false,
     "input": [
      "fahr_to_celsius(212)"
     ],
     "language": "python",
     "metadata": {},
     "outputs": [
      {
       "metadata": {},
       "output_type": "pyout",
       "prompt_number": 14,
       "text": [
        "100.0"
       ]
      }
     ],
     "prompt_number": 14
    },
    {
     "cell_type": "code",
     "collapsed": false,
     "input": [
      "help(fahr_to_celsius)  \n",
      "#currently no help has been created"
     ],
     "language": "python",
     "metadata": {},
     "outputs": [
      {
       "output_type": "stream",
       "stream": "stdout",
       "text": [
        "Help on function fahr_to_celsius in module __main__:\n",
        "\n",
        "fahr_to_celsius(temp)\n",
        "\n"
       ]
      }
     ],
     "prompt_number": 16
    },
    {
     "cell_type": "code",
     "collapsed": false,
     "input": [
      "def fahr_to_celsius(temp):\n",
      "    '''Returns the temperature in Celsius when given value in Fahrenheit)'''\n",
      "    #define help by '''.....'''\n",
      "    temp_kelvin = fahr_to_kelvin(temp) \n",
      "    temp_celcius = kelvin_to_celsius(temp_kelvin)\n",
      "    return temp_celsius"
     ],
     "language": "python",
     "metadata": {},
     "outputs": [],
     "prompt_number": 18
    },
    {
     "cell_type": "code",
     "collapsed": false,
     "input": [
      "help(fahr_to_celsius)  \n",
      "#help is now included for this function"
     ],
     "language": "python",
     "metadata": {},
     "outputs": [
      {
       "output_type": "stream",
       "stream": "stdout",
       "text": [
        "Help on function fahr_to_celsius in module __main__:\n",
        "\n",
        "fahr_to_celsius(temp)\n",
        "    Returns the temperature in Celsius when given value in Fahrenheit)\n",
        "\n"
       ]
      }
     ],
     "prompt_number": 20
    },
    {
     "cell_type": "code",
     "collapsed": false,
     "input": [
      "import numpy as np"
     ],
     "language": "python",
     "metadata": {},
     "outputs": [],
     "prompt_number": 21
    },
    {
     "cell_type": "code",
     "collapsed": false,
     "input": [
      "from matplotlib import pyplot as plt\n",
      "%matplotlib inline"
     ],
     "language": "python",
     "metadata": {},
     "outputs": [],
     "prompt_number": 23
    },
    {
     "cell_type": "code",
     "collapsed": false,
     "input": [
      "def analyze(filename):\n",
      "    '''reads in data from an inflammation file and prints the mean, maximum and minimum daily inflammation across all patients'''\n",
      "    data = np.loadtxt(filename, delimiter=',')\n",
      "    \n",
      "    plt.figure(figsize=(10.0,3.0))\n",
      "    \n",
      "    plt.subplot(1,3,1)\n",
      "    plt.xlabel(\"Average Inflammation\")\n",
      "    plt.plot(data.mean(axis=0))\n",
      "\n",
      "    plt.subplot(1,3,2)\n",
      "    plt.xlabel(\"Minimum Inflammation\")\n",
      "    plt.plot(data.min(axis=0))\n",
      "\n",
      "    plt.subplot(1,3,3)\n",
      "    plt.xlabel(\"Maximum Inflammation\")\n",
      "    plt.plot(data.max(axis=0))\n",
      "\n",
      "    plt.tight_layout()\n",
      "    #tells the programme to keep white space around graphs to a minimum\n",
      "    plt.show()"
     ],
     "language": "python",
     "metadata": {},
     "outputs": [],
     "prompt_number": 24
    },
    {
     "cell_type": "code",
     "collapsed": false,
     "input": [
      "analyze(\"inflammation-01.csv\")"
     ],
     "language": "python",
     "metadata": {},
     "outputs": [
      {
       "metadata": {},
       "output_type": "display_data",
       "png": "[encoded data removed]",
       "text": [
        "<matplotlib.figure.Figure at 0x3fd7b10>"
       ]
      }
     ],
     "prompt_number": 26
    },
    {
     "cell_type": "code",
     "collapsed": false,
     "input": [
      "analyze(\"inflammation-02.csv\")"
     ],
     "language": "python",
     "metadata": {},
     "outputs": [
      {
       "metadata": {},
       "output_type": "display_data",
       "png": "[encoded data removed]",
       "text": [
        "<matplotlib.figure.Figure at 0x415b1d0>"
       ]
      }
     ],
     "prompt_number": 27
    },
    {
     "cell_type": "code",
     "collapsed": false,
     "input": [
      "print \"Inflammation 1\"\n",
      "analyze(\"inflammation-01.csv\")\n",
      "print \"Inflammation 2\"\n",
      "analyze(\"inflammation-02.csv\")\n",
      "print \"Inflammation 3\"\n",
      "analyze(\"inflammation-03.csv\")"
     ],
     "language": "python",
     "metadata": {},
     "outputs": [
      {
       "output_type": "stream",
       "stream": "stdout",
       "text": [
        "Inflammation 1\n"
       ]
      },
      {
       "metadata": {},
       "output_type": "display_data",
       "png": "[encoded data removed]",
       "text": [
        "<matplotlib.figure.Figure at 0x6cfbab0>"
       ]
      },
      {
       "output_type": "stream",
       "stream": "stdout",
       "text": [
        "Inflammation 2\n"
       ]
      },
      {
       "metadata": {},
       "output_type": "display_data",
       "png": "[encoded data removed]",
       "text": [
        "<matplotlib.figure.Figure at 0x6f4bed0>"
       ]
      },
      {
       "output_type": "stream",
       "stream": "stdout",
       "text": [
        "Inflammation 3\n"
       ]
      },
      {
       "metadata": {},
       "output_type": "display_data",
       "png": "[encoded data removed]",
       "text": [
        "<matplotlib.figure.Figure at 0x6fc3fb0>"
       ]
      }
     ],
     "prompt_number": 29
    },
    {
     "cell_type": "code",
     "collapsed": false,
     "input": [
      "data = np.loadtxt(\"inflammation-01.csv\",delimiter=',')"
     ],
     "language": "python",
     "metadata": {},
     "outputs": [],
     "prompt_number": 44
    },
    {
     "cell_type": "code",
     "collapsed": false,
     "input": [
      "def data_norm(temp, min_value, max_value):\n",
      "    '''normalises an array of data between a minmum and maximum value'''\n",
      "    min_temp = temp.min()\n",
      "    data_diff = temp.max()- min_temp\n",
      "    return (temp - (min_temp + min_value)/(data_diff * max_value))"
     ],
     "language": "python",
     "metadata": {},
     "outputs": [],
     "prompt_number": 50
    },
    {
     "cell_type": "markdown",
     "metadata": {},
     "source": [
      "data_rescale = data_norm(temp,1,10)"
     ]
    },
    {
     "cell_type": "code",
     "collapsed": false,
     "input": [
      "data_rescale = data_norm(data,1,10)\n",
      "print data_rescale"
     ],
     "language": "python",
     "metadata": {},
     "outputs": [
      {
       "output_type": "stream",
       "stream": "stdout",
       "text": [
        "[[-0.005 -0.005  0.995 ...,  2.995 -0.005 -0.005]\n",
        " [-0.005  0.995  1.995 ...,  0.995 -0.005  0.995]\n",
        " [-0.005  0.995  0.995 ...,  1.995  0.995  0.995]\n",
        " ..., \n",
        " [-0.005  0.995  0.995 ...,  0.995  0.995  0.995]\n",
        " [-0.005 -0.005 -0.005 ..., -0.005  1.995 -0.005]\n",
        " [-0.005 -0.005  0.995 ...,  0.995  0.995 -0.005]]\n"
       ]
      }
     ],
     "prompt_number": 53
    },
    {
     "cell_type": "code",
     "collapsed": false,
     "input": [
      "#code above was written by tutor on fly and is buggy"
     ],
     "language": "python",
     "metadata": {},
     "outputs": []
    },
    {
     "cell_type": "code",
     "collapsed": false,
     "input": [
      "subset = data[-5:,-5:]"
     ],
     "language": "python",
     "metadata": {},
     "outputs": [],
     "prompt_number": 45
    },
    {
     "cell_type": "code",
     "collapsed": false,
     "input": [
      "print data"
     ],
     "language": "python",
     "metadata": {},
     "outputs": [
      {
       "output_type": "stream",
       "stream": "stdout",
       "text": [
        "[[ 0.  0.  1. ...,  3.  0.  0.]\n",
        " [ 0.  1.  2. ...,  1.  0.  1.]\n",
        " [ 0.  1.  1. ...,  2.  1.  1.]\n",
        " ..., \n",
        " [ 0.  1.  1. ...,  1.  1.  1.]\n",
        " [ 0.  0.  0. ...,  0.  2.  0.]\n",
        " [ 0.  0.  1. ...,  1.  1.  0.]]\n"
       ]
      }
     ],
     "prompt_number": 46
    },
    {
     "cell_type": "code",
     "collapsed": false,
     "input": [
      "def rescale_max(temp, max_value):\n",
      "    '''normalises an array of data to a new maximum value'''\n",
      "    return temp * (max_value/temp.max())"
     ],
     "language": "python",
     "metadata": {},
     "outputs": [],
     "prompt_number": 59
    },
    {
     "cell_type": "code",
     "collapsed": false,
     "input": [
      "subset_new = rescale_max(subset, 15.0)"
     ],
     "language": "python",
     "metadata": {},
     "outputs": [],
     "prompt_number": 60
    },
    {
     "cell_type": "code",
     "collapsed": false,
     "input": [
      "print subset_new"
     ],
     "language": "python",
     "metadata": {},
     "outputs": [
      {
       "output_type": "stream",
       "stream": "stdout",
       "text": [
        "[[ 15.   9.   9.   0.   3.]\n",
        " [ 12.   6.   6.   3.   3.]\n",
        " [ 15.   6.   3.   3.   3.]\n",
        " [ 15.   6.   0.   6.   0.]\n",
        " [  3.   9.   3.   3.   0.]]\n"
       ]
      }
     ],
     "prompt_number": 61
    },
    {
     "cell_type": "code",
     "collapsed": false,
     "input": [
      "subset_new2 = rescale_max(subset)"
     ],
     "language": "python",
     "metadata": {},
     "outputs": [
      {
       "ename": "TypeError",
       "evalue": "rescale_max() takes exactly 2 arguments (1 given)",
       "output_type": "pyerr",
       "traceback": [
        "\u001b[1;31m---------------------------------------------------------------------------\u001b[0m\n\u001b[1;31mTypeError\u001b[0m                                 Traceback (most recent call last)",
        "\u001b[1;32m<ipython-input-62-235e801095e4>\u001b[0m in \u001b[0;36m<module>\u001b[1;34m()\u001b[0m\n\u001b[1;32m----> 1\u001b[1;33m \u001b[0msubset_new2\u001b[0m \u001b[1;33m=\u001b[0m \u001b[0mrescale_max\u001b[0m\u001b[1;33m(\u001b[0m\u001b[0msubset\u001b[0m\u001b[1;33m)\u001b[0m\u001b[1;33m\u001b[0m\u001b[0m\n\u001b[0m",
        "\u001b[1;31mTypeError\u001b[0m: rescale_max() takes exactly 2 arguments (1 given)"
       ]
      }
     ],
     "prompt_number": 62
    },
    {
     "cell_type": "code",
     "collapsed": false,
     "input": [
      "def rescale_max(temp, max_value=1):\n",
      "    #can define a maximum value within the function\n",
      "    '''normalises an array of data to a new maximum value'''\n",
      "    return temp * (max_value/temp.max())"
     ],
     "language": "python",
     "metadata": {},
     "outputs": [],
     "prompt_number": 63
    },
    {
     "cell_type": "code",
     "collapsed": false,
     "input": [
      "print rescale_max(subset)"
     ],
     "language": "python",
     "metadata": {},
     "outputs": [
      {
       "output_type": "stream",
       "stream": "stdout",
       "text": [
        "[[ 1.   0.6  0.6  0.   0.2]\n",
        " [ 0.8  0.4  0.4  0.2  0.2]\n",
        " [ 1.   0.4  0.2  0.2  0.2]\n",
        " [ 1.   0.4  0.   0.4  0. ]\n",
        " [ 0.2  0.6  0.2  0.2  0. ]]\n"
       ]
      }
     ],
     "prompt_number": 64
    },
    {
     "cell_type": "code",
     "collapsed": false,
     "input": [],
     "language": "python",
     "metadata": {},
     "outputs": []
    }
   ],
   "metadata": {}
  }
 ]
}