{
 "metadata": {
  "name": "",
  "signature": "sha256:8553c0b033d03ec3a63d3f8bf2af5b89904cddc62b21c52526becc029cf646fb"
 },
 "nbformat": 3,
 "nbformat_minor": 0,
 "worksheets": [
  {
   "cells": [
    {
     "cell_type": "code",
     "collapsed": false,
     "input": [],
     "language": "python",
     "metadata": {},
     "outputs": []
    }
   ],
   "metadata": {}
  }
 ]
}